{
  "nbformat": 4,
  "nbformat_minor": 0,
  "metadata": {
    "colab": {
      "provenance": [],
      "collapsed_sections": [
        "-HEwAIv26g5J",
        "EJidvQJi7Axi"
      ],
      "authorship_tag": "ABX9TyNpHxmT0+C6TNS+HFJR35K/",
      "include_colab_link": true
    },
    "kernelspec": {
      "name": "python3",
      "display_name": "Python 3"
    },
    "language_info": {
      "name": "python"
    }
  },
  "cells": [
    {
      "cell_type": "markdown",
      "metadata": {
        "id": "view-in-github",
        "colab_type": "text"
      },
      "source": [
        "<a href=\"https://colab.research.google.com/github/Awaish0419/Bond-Yield-Bootstrapper/blob/main/BondYieldBootstrapper.ipynb\" target=\"_parent\"><img src=\"https://colab.research.google.com/assets/colab-badge.svg\" alt=\"Open In Colab\"/></a>"
      ]
    },
    {
      "cell_type": "markdown",
      "source": [
        "# Initial parameters"
      ],
      "metadata": {
        "id": "-HEwAIv26g5J"
      }
    },
    {
      "cell_type": "code",
      "source": [
        "t_issue=\"2024-01-01\"\n",
        "t_maturity=\"2026-01-01\"\n",
        "face_value=100\n",
        "coupon_rate=0.05\n",
        "frequency=\"semi-annually\"\n",
        "market_price = 95"
      ],
      "metadata": {
        "id": "jwxmXQf66kq9"
      },
      "execution_count": 126,
      "outputs": []
    },
    {
      "cell_type": "markdown",
      "source": [
        "# Bond class definition"
      ],
      "metadata": {
        "id": "EJidvQJi7Axi"
      }
    },
    {
      "cell_type": "code",
      "source": [
        "import pandas as pd\n",
        "from datetime import datetime, timedelta\n",
        "from dateutil.relativedelta import relativedelta\n",
        "from scipy.optimize import fsolve\n",
        "\n",
        "class Bond:\n",
        "\n",
        "  def generate_schedule(self):\n",
        "    delta = {\"monthly\": 1, \"quarterly\": 3, \"semi-annually\": 6, \"annually\": 12}[self.frequency]\n",
        "    period = 1\n",
        "    date = self.issue_date + relativedelta(months=delta * period)\n",
        "    while date <= self.maturity_date:\n",
        "      self.payment_schedule.append(date)\n",
        "      period += 1\n",
        "      date = self.issue_date + relativedelta(months=delta * period)\n",
        "\n",
        "  def __init__(self, issue_date, maturity_date, face_value, coupon_rate, frequency):\n",
        "    self.issue_date = datetime.strptime(issue_date, \"%Y-%m-%d\")\n",
        "    self.maturity_date = datetime.strptime(maturity_date, \"%Y-%m-%d\")\n",
        "    self.face_value = face_value\n",
        "    self.coupon_rate = coupon_rate\n",
        "    self.frequency = frequency\n",
        "    self.payment_schedule = []\n",
        "    self.payments = []\n",
        "    self.generate_schedule()\n",
        "\n",
        "  def calculate_payments(self):\n",
        "    self.payments = []\n",
        "    coupon_payment = self.face_value * self.coupon_rate / {\"monthly\": 12, \"quarterly\": 4, \"semi-annually\": 2, \"annually\": 1}[self.frequency]\n",
        "    for i, date in enumerate(self.payment_schedule):\n",
        "      payment = coupon_payment\n",
        "      if i == len(self.payment_schedule) - 1:\n",
        "        payment += self.face_value\n",
        "      self.payments.append((date.strftime(\"%Y-%m-%d\"), payment))\n",
        "    return pd.DataFrame(self.payments, columns=[\"Pay Date\", \"Pay Amount\"])\n",
        "\n",
        "  def npv(self, y):\n",
        "    npv = 0\n",
        "    for i, (_, payment) in enumerate(self.payments):\n",
        "      ti = (i + 1) / {\"monthly\": 12, \"quarterly\": 4, \"semi-annually\": 2, \"annually\": 1}[self.frequency]\n",
        "      npv += payment / (1 + y) ** ti\n",
        "    return npv\n",
        "\n",
        "  def calculate_yield(self, market_price):\n",
        "    self.calculate_payments()\n",
        "    def objective(y):\n",
        "      return self.npv(y) - market_price\n",
        "\n",
        "    yield_rate = fsolve(objective, 0.05)[0]\n",
        "    return yield_rate"
      ],
      "metadata": {
        "id": "X0QFQ74Emkn0"
      },
      "execution_count": 127,
      "outputs": []
    },
    {
      "cell_type": "markdown",
      "source": [
        "## Bond class test"
      ],
      "metadata": {
        "id": "h33-kvMK7KS3"
      }
    },
    {
      "cell_type": "code",
      "source": [
        "bond = Bond(t_issue, t_maturity, face_value, coupon_rate, frequency)\n",
        "df = bond.calculate_payments()\n",
        "print(df.to_string(index=False))\n",
        "\n",
        "yield_rate = bond.calculate_yield(market_price)\n",
        "print(yield_rate)\n",
        "print(f\"Yield: {yield_rate:.4%}\")"
      ],
      "metadata": {
        "colab": {
          "base_uri": "https://localhost:8080/"
        },
        "id": "YwV3lvNE7P_e",
        "outputId": "90472728-1bdb-4696-a48a-43fea394db52"
      },
      "execution_count": 128,
      "outputs": [
        {
          "output_type": "stream",
          "name": "stdout",
          "text": [
            "  Pay Date  Pay Amount\n",
            "2024-07-01         2.5\n",
            "2025-01-01         2.5\n",
            "2025-07-01         2.5\n",
            "2026-01-01       102.5\n",
            "0.0789670946617533\n",
            "Yield: 7.8967%\n"
          ]
        }
      ]
    },
    {
      "cell_type": "markdown",
      "source": [
        "# Yield Curve class definition"
      ],
      "metadata": {
        "id": "U0kLz2DoG-9N"
      }
    },
    {
      "cell_type": "code",
      "source": [
        "import numpy as np\n",
        "from scipy.interpolate import interp1d, CubicSpline\n",
        "from datetime import datetime\n",
        "import math\n",
        "\n",
        "class YieldCurve:\n",
        "  def __init__(self, maturities, yields, interpolation_method=\"linear\", compounding_method=\"continuous\"):\n",
        "    self.maturities = np.array(maturities)\n",
        "    self.yields = np.array(yields)\n",
        "    self.compounding_method = compounding_method\n",
        "\n",
        "    if interpolation_method == \"linear\":\n",
        "      self.interpolator = interp1d(self.maturities, self.yields, kind=\"linear\", fill_value=\"extrapolate\")\n",
        "    elif interpolation_method == \"cubic\":\n",
        "      self.interpolator = CubicSpline(self.maturities, self.yields)\n",
        "    else:\n",
        "      raise ValueError(\"Unsupported interpolation method. Use 'linear' or 'cubic'.\")\n",
        "\n",
        "  def rate(self, date):\n",
        "    return self.interpolator(date)\n",
        "\n",
        "  def discount(self, date):\n",
        "    y = self.rate(date)\n",
        "\n",
        "    if self.compounding_method == \"continuous\":\n",
        "      return math.exp(-y * date)\n",
        "    elif self.compounding_method == \"discrete\":\n",
        "      return 1 / ((1 + y) ** date)\n",
        "    else:\n",
        "      raise ValueError(\"Unsupported compounding method. Use 'continuous' or 'discrete'.\")"
      ],
      "metadata": {
        "id": "wZDq2j-oHefm"
      },
      "execution_count": 129,
      "outputs": []
    },
    {
      "cell_type": "markdown",
      "source": [
        "## Yield Curve class test"
      ],
      "metadata": {
        "id": "-ZzTZnPcmMTY"
      }
    },
    {
      "cell_type": "code",
      "source": [
        "maturities = [0.25, 0.5, 1.0, 5.0]\n",
        "frequency = \"monthly\"\n",
        "yields = []\n",
        "for maturity in maturities:\n",
        "  current_maturity = (datetime.strptime(t_issue, \"%Y-%m-%d\") + relativedelta(months=(int(12 * maturity)))).strftime(\"%Y-%m-%d\")\n",
        "  bond = Bond(t_issue, current_maturity, face_value, coupon_rate, frequency)\n",
        "  yields.append(bond.calculate_yield(market_price))\n",
        "\n",
        "print(\"maturities: \")\n",
        "print(maturities)\n",
        "print(\"yields: \")\n",
        "print(yields)\n",
        "\n",
        "yc = YieldCurve(maturities, yields, \"cubic\", \"continuous\")\n",
        "\n",
        "print(\"Interpolated rate at 2 years:\", yc.rate(2.0))\n",
        "print(\"Discount factor at 2 years:\", yc.discount(2.0))"
      ],
      "metadata": {
        "colab": {
          "base_uri": "https://localhost:8080/"
        },
        "id": "eEyOcnLGmVAb",
        "outputId": "c8c66f73-529f-4984-e739-2005aa15eede"
      },
      "execution_count": 130,
      "outputs": [
        {
          "output_type": "stream",
          "name": "stdout",
          "text": [
            "maturities: \n",
            "[0.25, 0.5, 1.0, 5.0]\n",
            "yields: \n",
            "[0.2916691632244055, 0.1659883561206477, 0.10781590684796283, 0.0634175736360265]\n",
            "Interpolated rate at 2 years: 0.49245270930807217\n",
            "Discount factor at 2 years: 0.3734745490059093\n"
          ]
        }
      ]
    },
    {
      "cell_type": "markdown",
      "source": [
        "According to the result, we can see that the cubic interpolation method cannot make an accurate calculation. Firstly, the distances between maturities have a huge gap. (e.g. 5.0 - 1.0 >> 0.5 - 0.25) Secondly, the number of data is too small."
      ],
      "metadata": {
        "id": "RZf8D5J1wVaJ"
      }
    },
    {
      "cell_type": "markdown",
      "source": [],
      "metadata": {
        "id": "JqiS8cej3g9e"
      }
    },
    {
      "cell_type": "markdown",
      "source": [
        "# Bootstrapper class"
      ],
      "metadata": {
        "id": "YsJX6ySb06EC"
      }
    },
    {
      "cell_type": "code",
      "source": [
        "class Bootstrapper:\n",
        "  def __init__(self, bond_data, interpolation_method=\"cubic\", compounding_method=\"continuous\"):\n",
        "    self.bond_data = bond_data\n",
        "    self.interpolation_method = interpolation_method\n",
        "    self.compounding_method = compounding_method\n",
        "\n",
        "  def bootstrap(self):\n",
        "    maturities = []\n",
        "    yields = []\n",
        "\n",
        "    for bond in self.bond_data:\n",
        "      maturity, price, frequency = bond\n",
        "      coupon_rate = 0.05\n",
        "      current_maturity = (datetime.strptime(t_issue, \"%Y-%m-%d\") + relativedelta(months=(int(12 * maturity)))).strftime(\"%Y-%m-%d\")\n",
        "      bond = Bond(t_issue, current_maturity, face_value, coupon_rate, frequency)\n",
        "\n",
        "      yield_rate = bond.calculate_yield(price)\n",
        "      maturities.append(maturity)\n",
        "      yields.append(yield_rate)\n",
        "\n",
        "    yc = YieldCurve(maturities, yields, self.interpolation_method, self.compounding_method)\n",
        "    return yc"
      ],
      "metadata": {
        "id": "hVDl0S2809Pu"
      },
      "execution_count": 131,
      "outputs": []
    },
    {
      "cell_type": "markdown",
      "source": [
        "## Bootstrapper class test"
      ],
      "metadata": {
        "id": "vzsUMT6g41il"
      }
    },
    {
      "cell_type": "code",
      "source": [
        "from typing_extensions import final\n",
        "bond_data = [(1, 97.2, 'annually'), (2, 98.5, 'semi-annually'), (3, 99.25, 'quarterly'), (4, 98.33, 'quarterly'), (5, 97.25, 'semi-annually')]\n",
        "bootstrapper = Bootstrapper(bond_data)\n",
        "final_yield_curve = bootstrapper.bootstrap()\n",
        "df = pd.DataFrame({\n",
        "  \"Maturity\": final_yield_curve.maturities,\n",
        "  \"yield\": final_yield_curve.yields\n",
        "})\n",
        "\n",
        "print(df.to_string(index=False))"
      ],
      "metadata": {
        "colab": {
          "base_uri": "https://localhost:8080/"
        },
        "id": "kc7gJ1Ap45ot",
        "outputId": "8dd42306-5075-4be9-e93b-34391b2b1b02"
      },
      "execution_count": 132,
      "outputs": [
        {
          "output_type": "stream",
          "name": "stdout",
          "text": [
            " Maturity    yield\n",
            "        1 0.080247\n",
            "        2 0.058895\n",
            "        3 0.053771\n",
            "        4 0.055808\n",
            "        5 0.057183\n"
          ]
        }
      ]
    }
  ]
}